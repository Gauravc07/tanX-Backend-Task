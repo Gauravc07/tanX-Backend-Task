{
 "cells": [
  {
   "cell_type": "code",
   "execution_count": 57,
   "metadata": {},
   "outputs": [
    {
     "data": {
      "text/plain": [
       "'wss://stream.binance.com/ws'"
      ]
     },
     "execution_count": 57,
     "metadata": {},
     "output_type": "execute_result"
    }
   ],
   "source": [
    "SOCK_URL = f\"wss://stream.binance.com/stream?streams=btcusdt@trade/ethusdt@trade/xrpusdt@trade/ltcusdt@trade/bchusdt@trade/eosusdt@trade/xlmusdt@trade/adausdt@trade/trxusdt@trade/neousdt@trade/iotausdt@trade/dashusdt@trade/xemusdt@trade/venusdt@trade/ethbtc@trade/xrpbtc@trade/ltcbtc@trade/bchbtc@trade/eosbtc@trade/xlmbtc@trade/adabtc@trade/trxbtc@trade/neobtc@trade/iotabtc@trade/dashbtc@trade/xembtc@trade/venbtc@trade\"\n",
    "SOCK_URL"
   ]
  },
  {
   "cell_type": "code",
   "execution_count": 58,
   "metadata": {},
   "outputs": [],
   "source": [
    "import websocket\n",
    "import json\n",
    "import pprint\n",
    "import gzip\n",
    "\n",
    "\n",
    "def on_message(ws, message):\n",
    "    print(message)\n",
    "\n",
    "\n",
    "def on_close(ws, close_status_code, close_msg):\n",
    "    print(\"### closed ###\")\n",
    "\n",
    "\n",
    "def on_open(ws):\n",
    "    print(\"### open ###\")\n",
    "    \n",
    "\n",
    "def on_error(ws, error):\n",
    "    print(error)\n",
    "\n",
    "websocket.enableTrace(True)\n",
    "ws = websocket.WebSocketApp(SOCK_URL, on_open=on_open, on_close=on_close, on_message=on_message, on_error=on_error)"
   ]
  },
  {
   "cell_type": "code",
   "execution_count": null,
   "metadata": {},
   "outputs": [],
   "source": [
    "from flask_sqlalchemy import SQLAlchemy\n",
    "\n",
    "def getActiveRequests():\n"
   ]
  },
  {
   "cell_type": "code",
   "execution_count": 1,
   "metadata": {},
   "outputs": [],
   "source": [
    "import websocket\n",
    "import json\n",
    "import threading\n",
    "\n",
    "SOCK_URL = f\"wss://stream.binance.com/ws\"\n",
    "\n",
    "active_reqs = []\n",
    "\n",
    "def createSocket():\n",
    "    def on_message(ws, message):\n",
    "        data = json.loads(message)  \n",
    "\n",
    "        # print(data)\n",
    "        reqMsg = {\"coin\" : data[\"s\"][:-4].upper(), \"price\" : data[\"k\"][\"c\"]}\n",
    "        print(reqMsg)\n",
    "\n",
    "    def on_close(ws, close_status_code, close_msg):\n",
    "        print(\"### closed ###\")\n",
    "\n",
    "    def on_open(ws):\n",
    "        print(\"### open ###\")\n",
    "        \n",
    "\n",
    "    def on_error(ws, error):\n",
    "        \n",
    "        print(error)\n",
    "\n",
    "    def runSock(ws):\n",
    "        ws.run_forever()\n",
    "\n",
    "\n",
    "    websocket.enableTrace(False)\n",
    "\n",
    "    ws = websocket.WebSocketApp(SOCK_URL, on_open=on_open, on_close=on_close, on_message=on_message, on_error=on_error)\n",
    "\n",
    "    wsThread = threading.Thread(target=runSock, args=(ws,))\n",
    "    wsThread.daemon = True\n",
    "    wsThread.start()\n",
    "\n",
    "    return ws\n"
   ]
  },
  {
   "cell_type": "code",
   "execution_count": 2,
   "metadata": {},
   "outputs": [
    {
     "data": {
      "text/plain": [
       "<websocket._app.WebSocketApp at 0x1e4fa779b20>"
      ]
     },
     "execution_count": 2,
     "metadata": {},
     "output_type": "execute_result"
    },
    {
     "name": "stdout",
     "output_type": "stream",
     "text": [
      "### open ###\n"
     ]
    }
   ],
   "source": [
    "ws = createSocket()\n",
    "ws"
   ]
  },
  {
   "cell_type": "code",
   "execution_count": 3,
   "metadata": {},
   "outputs": [
    {
     "name": "stdout",
     "output_type": "stream",
     "text": [
      "'s'\n",
      "{'coin': 'BTC', 'price': '43146.98000000'}\n",
      "{'coin': 'ETH', 'price': '2306.86000000'}\n",
      "{'coin': 'BTC', 'price': '43146.98000000'}\n",
      "{'coin': 'ETH', 'price': '2307.18000000'}\n",
      "{'coin': 'BTC', 'price': '43146.98000000'}\n",
      "{'coin': 'ETH', 'price': '2307.50000000'}\n",
      "{'coin': 'ETH', 'price': '2307.60000000'}\n"
     ]
    }
   ],
   "source": [
    "ws.send(json.dumps({\"method\": \"SUBSCRIBE\", \"params\": [\"btcusdt@kline_1m\", \"ethusdt@kline_1m\"], \"id\": 1}))"
   ]
  },
  {
   "cell_type": "code",
   "execution_count": 1,
   "metadata": {},
   "outputs": [
    {
     "ename": "NameError",
     "evalue": "name 'ws' is not defined",
     "output_type": "error",
     "traceback": [
      "\u001b[1;31m---------------------------------------------------------------------------\u001b[0m",
      "\u001b[1;31mNameError\u001b[0m                                 Traceback (most recent call last)",
      "Cell \u001b[1;32mIn[1], line 1\u001b[0m\n\u001b[1;32m----> 1\u001b[0m \u001b[43mws\u001b[49m\u001b[38;5;241m.\u001b[39mrun_forever()\n\u001b[0;32m      2\u001b[0m ws\u001b[38;5;241m.\u001b[39msend(json\u001b[38;5;241m.\u001b[39mdumps({\u001b[38;5;124m\"\u001b[39m\u001b[38;5;124mmethod\u001b[39m\u001b[38;5;124m\"\u001b[39m: \u001b[38;5;124m\"\u001b[39m\u001b[38;5;124mSUBSCRIBE\u001b[39m\u001b[38;5;124m\"\u001b[39m, \u001b[38;5;124m\"\u001b[39m\u001b[38;5;124mparams\u001b[39m\u001b[38;5;124m\"\u001b[39m: [\u001b[38;5;124m\"\u001b[39m\u001b[38;5;124mbtcusdt@kline_1m\u001b[39m\u001b[38;5;124m\"\u001b[39m, \u001b[38;5;124m\"\u001b[39m\u001b[38;5;124methusdt@kline_1m\u001b[39m\u001b[38;5;124m\"\u001b[39m], \u001b[38;5;124m\"\u001b[39m\u001b[38;5;124mid\u001b[39m\u001b[38;5;124m\"\u001b[39m: \u001b[38;5;241m1\u001b[39m}))\n",
      "\u001b[1;31mNameError\u001b[0m: name 'ws' is not defined"
     ]
    }
   ],
   "source": [
    "ws.run_forever()\n",
    "ws.send(json.dumps({\"method\": \"SUBSCRIBE\", \"params\": [\"btcusdt@kline_1m\", \"ethusdt@kline_1m\"], \"id\": 1}))\n"
   ]
  }
 ],
 "metadata": {
  "kernelspec": {
   "display_name": "venv",
   "language": "python",
   "name": "python3"
  },
  "language_info": {
   "codemirror_mode": {
    "name": "ipython",
    "version": 3
   },
   "file_extension": ".py",
   "mimetype": "text/x-python",
   "name": "python",
   "nbconvert_exporter": "python",
   "pygments_lexer": "ipython3",
   "version": "3.10.11"
  }
 },
 "nbformat": 4,
 "nbformat_minor": 2
}
